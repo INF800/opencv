{
 "cells": [
  {
   "cell_type": "code",
   "execution_count": null,
   "metadata": {},
   "outputs": [],
   "source": []
  },
  {
   "cell_type": "code",
   "execution_count": null,
   "metadata": {},
   "outputs": [],
   "source": [
    "import cv2\n",
    "import numpy as np"
   ]
  },
  {
   "cell_type": "code",
   "execution_count": null,
   "metadata": {},
   "outputs": [],
   "source": []
  },
  {
   "cell_type": "code",
   "execution_count": null,
   "metadata": {},
   "outputs": [],
   "source": []
  },
  {
   "cell_type": "code",
   "execution_count": null,
   "metadata": {},
   "outputs": [],
   "source": [
    "img = cv2.imread('./pp.jpg')\n",
    "print(img[100,100])\n",
    "print(img.shape)"
   ]
  },
  {
   "cell_type": "code",
   "execution_count": null,
   "metadata": {},
   "outputs": [],
   "source": [
    "#converted to 2-d greyscale\n",
    "\n",
    "greyimg = cv2.cvtColor(img, cv2.COLOR_BGR2GRAY)\n",
    "print(greyimg[100,100])\n",
    "print(greyimg.shape) "
   ]
  },
  {
   "cell_type": "code",
   "execution_count": null,
   "metadata": {},
   "outputs": [],
   "source": []
  },
  {
   "cell_type": "code",
   "execution_count": null,
   "metadata": {},
   "outputs": [],
   "source": []
  },
  {
   "cell_type": "code",
   "execution_count": null,
   "metadata": {},
   "outputs": [],
   "source": [
    "#HSV color model\n",
    "\n",
    "img = cv2.imread('./pp.jpg')\n",
    "\n",
    "hsv_img = cv2.cvtColor(img, cv2.COLOR_BGR2HSV)\n",
    "#cv2.imshow('HSV IMAGE', hsv_img)\n",
    "cv2.imshow('HUE IMAGE', hsv_img[:,:,0])\n",
    "cv2.imshow('SATURATION IMAGE', hsv_img[:,:,1])\n",
    "cv2.imshow('VALUE IMAGE', hsv_img[:,:,2])\n",
    "\n",
    "\n",
    "cv2.waitKey()\n",
    "cv2.destroyAllWindows()"
   ]
  },
  {
   "cell_type": "code",
   "execution_count": null,
   "metadata": {},
   "outputs": [],
   "source": [
    "\n"
   ]
  },
  {
   "cell_type": "code",
   "execution_count": null,
   "metadata": {},
   "outputs": [],
   "source": []
  },
  {
   "cell_type": "code",
   "execution_count": null,
   "metadata": {},
   "outputs": [],
   "source": [
    "#RGB color model\n",
    "\n",
    "img = cv2.imread(\"./pp.jpg\")\n",
    "\n",
    "#SPLITS INTO DFFT COLOR MODELS\n",
    "B, G, R = cv2.split(img)\n",
    "#outputs will be in grey scale cz 2-d\n",
    "cv2.imshow('RED BUT GREYSCALED', R)\n",
    "cv2.imshow('GREEN BUT GREYSCALED', G)\n",
    "cv2.imshow('BLUE BUT GREYSCALED', B)\n",
    "\n",
    "\n",
    "cv2.waitKey(0)\n",
    "cv2.destroyAllWindows()\n",
    "\n",
    "\n",
    "#MERGES DIFFT COLORMODELS\n",
    "merged = cv2.merge([B,G,R])\n",
    "cv2.imshow('MERGED', merged)\n",
    "\n",
    "#amplify colors\n",
    "blue_amp = cv2.merge([B+100,G, R])\n",
    "cv2.imshow('MERGED WITH BLUE AMPLIFIED', blue_amp)\n",
    "\n",
    "\n",
    "cv2.waitKey(0)\n",
    "cv2.destroyAllWindows()\n",
    "\n",
    "#see below code to filter out G, B, R instea of simply amplifying "
   ]
  },
  {
   "cell_type": "code",
   "execution_count": null,
   "metadata": {},
   "outputs": [],
   "source": [
    "\n"
   ]
  },
  {
   "cell_type": "code",
   "execution_count": null,
   "metadata": {},
   "outputs": [],
   "source": []
  },
  {
   "cell_type": "code",
   "execution_count": 13,
   "metadata": {},
   "outputs": [],
   "source": [
    "#USING NUMPY ZEROES\n",
    "\n",
    "img = cv2.imread('./pp.jpg')\n",
    "cv2.imshow('original', img)\n",
    "B, G, R = cv2.split(img)\n",
    "\n",
    "zeroes = np.zeros(img.shape[:2], dtype=\"uint8\")\n",
    "\n",
    "cv2.imshow('RED IMAGE', cv2.merge([zeroes, zeroes, R]) )\n",
    "cv2.imshow('BLUE IMAGE', cv2.merge([B, zeroes, zeroes]) )\n",
    "cv2.imshow('GREEN IMAGE', cv2.merge([zeroes, G, zeroes]) )\n",
    "\n",
    "\n",
    "cv2.waitKey(0);\n",
    "cv2.destroyAllWindows()"
   ]
  },
  {
   "cell_type": "code",
   "execution_count": 8,
   "metadata": {},
   "outputs": [
    {
     "name": "stdout",
     "output_type": "stream",
     "text": [
      "(640, 640, 3)\n",
      "(640, 640)\n"
     ]
    }
   ],
   "source": [
    "print(img.shape)\n",
    "print(img.shape[:2])"
   ]
  },
  {
   "cell_type": "code",
   "execution_count": null,
   "metadata": {},
   "outputs": [],
   "source": []
  },
  {
   "cell_type": "code",
   "execution_count": null,
   "metadata": {},
   "outputs": [],
   "source": []
  },
  {
   "cell_type": "code",
   "execution_count": null,
   "metadata": {},
   "outputs": [],
   "source": []
  },
  {
   "cell_type": "markdown",
   "metadata": {},
   "source": [
    "# HISTOGRAM"
   ]
  },
  {
   "cell_type": "code",
   "execution_count": 23,
   "metadata": {},
   "outputs": [
    {
     "data": {
      "image/png": "[encoded data removed]",
      "text/plain": [
       "<Figure size 432x288 with 1 Axes>"
      ]
     },
     "metadata": {
      "needs_background": "light"
     },
     "output_type": "display_data"
    },
    {
     "data": {
      "image/png": "[encoded data removed]",
      "text/plain": [
       "<Figure size 432x288 with 1 Axes>"
      ]
     },
     "metadata": {
      "needs_background": "light"
     },
     "output_type": "display_data"
    }
   ],
   "source": [
    "import numpy as np\n",
    "import matplotlib.pyplot as plt\n",
    "import cv2\n",
    "\n",
    "img = cv2.imread('./pp.jpg')\n",
    "\n",
    "histogram = cv2.calcHist([img], [0], None, [256], [0,256])\n",
    "\n",
    "#ravel() flaens 2d to 1d\n",
    "#note : 256 is not in aecond level array\n",
    "plt.hist(img.ravel(), 256, [0,256])\n",
    "plt.show()\n",
    "\n",
    "\n",
    "color = ('b', 'g', 'r')\n",
    "for i,col in enumerate(color):\n",
    "    histogram2 = cv2.calcHist([img], [i], None, [256], [0,256])\n",
    "    plt.plot(histogram2, color=col)\n",
    "    plt.xlim([0,256])\n",
    "\n",
    "plt.show()"
   ]
  },
  {
   "cell_type": "code",
   "execution_count": null,
   "metadata": {},
   "outputs": [],
   "source": []
  },
  {
   "cell_type": "code",
   "execution_count": 15,
   "metadata": {},
   "outputs": [
    {
     "data": {
      "text/plain": [
       "array([  3,   3,   3, ..., 224, 227, 232], dtype=uint8)"
      ]
     },
     "execution_count": 15,
     "metadata": {},
     "output_type": "execute_result"
    }
   ],
   "source": [
    "img.ravel()"
   ]
  },
  {
   "cell_type": "code",
   "execution_count": null,
   "metadata": {},
   "outputs": [],
   "source": []
  },
  {
   "cell_type": "code",
   "execution_count": null,
   "metadata": {},
   "outputs": [],
   "source": []
  },
  {
   "cell_type": "markdown",
   "metadata": {},
   "source": [
    "# DRAWING SHAPES AND IMAGES"
   ]
  },
  {
   "cell_type": "code",
   "execution_count": null,
   "metadata": {},
   "outputs": [],
   "source": []
  },
  {
   "cell_type": "code",
   "execution_count": 28,
   "metadata": {},
   "outputs": [],
   "source": [
    "import numpy as np\n",
    "import cv2\n",
    "\n",
    "\n",
    "#create a black image : 500x500 dimension with 3 color models => 3D\n",
    "\n",
    "img = np.zeros([500,500,3], np.uint8)\n",
    "cv2.imshow('BLACK IMG',img)\n",
    "\n",
    "img_BW = np.zeros([500,500], np.uint8)\n",
    "cv2.imshow('BLACK AND WHITE',img_BW)\n",
    "\n",
    "cv2.waitKey(0)\n",
    "cv2.destroyAllWindows()"
   ]
  },
  {
   "cell_type": "markdown",
   "metadata": {},
   "source": []
  },
  {
   "cell_type": "code",
   "execution_count": 29,
   "metadata": {},
   "outputs": [],
   "source": [
    "#DRAW A LINE"
   ]
  },
  {
   "cell_type": "code",
   "execution_count": 31,
   "metadata": {},
   "outputs": [],
   "source": [
    "img = np.zeros([500,500,3], np.uint8)\n",
    "\n",
    "cv2.line(img, (0,0), (500,500), (255,0,255), 5)\n",
    "\n",
    "cv2.imshow(\"line drawn\", img)\n",
    "\n",
    "cv2.waitKey(0)\n",
    "cv2.destroyAllWindows()"
   ]
  },
  {
   "cell_type": "code",
   "execution_count": null,
   "metadata": {},
   "outputs": [],
   "source": []
  },
  {
   "cell_type": "code",
   "execution_count": 32,
   "metadata": {},
   "outputs": [],
   "source": [
    "#DRAW A RECTANGEL"
   ]
  },
  {
   "cell_type": "code",
   "execution_count": 39,
   "metadata": {},
   "outputs": [],
   "source": [
    "img = np.zeros([500,500,3], np.uint8)\n",
    "\n",
    "cv2.rectangle(img, (10,10), (350,350), (0,0,255), 2 )\n",
    "\n",
    "cv2.imshow(\"line drawn\", img)\n",
    "\n",
    "\n",
    "cv2.rectangle(img, (10,10), (350,350), (0,0,255), -1 )\n",
    "\n",
    "cv2.imshow(\"line drawn\", img)\n",
    "\n",
    "cv2.waitKey(0)\n",
    "cv2.destroyAllWindows()\n"
   ]
  },
  {
   "cell_type": "markdown",
   "metadata": {},
   "source": [
    "put -1 to fill (in place of thickness)\n",
    "\n",
    "we can draw circles, polygons, \n",
    "\n",
    "\n",
    "\n",
    "circles : cv2.circle(img, (center_x1, center_y1), radius, (r,g,b), -1)"
   ]
  },
  {
   "cell_type": "code",
   "execution_count": null,
   "metadata": {},
   "outputs": [],
   "source": []
  },
  {
   "cell_type": "code",
   "execution_count": 43,
   "metadata": {},
   "outputs": [],
   "source": [
    "#draw a ploygon aka polylines\n",
    "\n",
    "img = np.zeros([500,500,3], np.uint8)\n",
    "\n",
    "#define four points\n",
    "points = np.array([[10,50], [400,50], [90,200], [50, 440]])\n",
    "\n",
    "#reshape points array in required format\n",
    "points = points.reshape((-1,1,2))\n",
    "\n",
    "\n",
    "\n",
    "cv2.polylines(img, [points], True, (123,56,34), 3)\n",
    "\n",
    "\n",
    "\n",
    "cv2.imshow(\"polyline drawn\", img)\n",
    "\n",
    "cv2.waitKey(0)\n",
    "cv2.destroyAllWindows()"
   ]
  },
  {
   "cell_type": "code",
   "execution_count": null,
   "metadata": {},
   "outputs": [],
   "source": []
  },
  {
   "cell_type": "code",
   "execution_count": 45,
   "metadata": {},
   "outputs": [],
   "source": [
    "#add TEXT\n",
    "\n",
    "\n",
    "img = np.zeros([500,500,3], np.uint8)\n",
    "\n",
    "\n",
    "\n",
    "cv2.putText(img, \"Ciao!\", (75, 290), cv2.FONT_HERSHEY_COMPLEX, 2, (200, 10, 40), 3)\n",
    "\n",
    "\n",
    "\n",
    "cv2.imshow(\"TEXT WRITTEN\", img)\n",
    "\n",
    "cv2.waitKey(0)\n",
    "cv2.destroyAllWindows()"
   ]
  },
  {
   "cell_type": "code",
   "execution_count": null,
   "metadata": {},
   "outputs": [],
   "source": []
  },
  {
   "cell_type": "code",
   "execution_count": null,
   "metadata": {},
   "outputs": [],
   "source": []
  },
  {
   "cell_type": "code",
   "execution_count": null,
   "metadata": {},
   "outputs": [],
   "source": []
  },
  {
   "cell_type": "code",
   "execution_count": null,
   "metadata": {},
   "outputs": [],
   "source": []
  },
  {
   "cell_type": "code",
   "execution_count": null,
   "metadata": {},
   "outputs": [],
   "source": []
  }
 ],
 "metadata": {
  "kernelspec": {
   "display_name": "Python 3",
   "language": "python",
   "name": "python3"
  },
  "language_info": {
   "codemirror_mode": {
    "name": "ipython",
    "version": 3
   },
   "file_extension": ".py",
   "mimetype": "text/x-python",
   "name": "python",
   "nbconvert_exporter": "python",
   "pygments_lexer": "ipython3",
   "version": "3.7.0"
  }
 },
 "nbformat": 4,
 "nbformat_minor": 2
}
