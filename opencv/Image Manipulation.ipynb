{
 "cells": [
  {
   "cell_type": "markdown",
   "metadata": {},
   "source": [
    "# TRANSLATION"
   ]
  },
  {
   "cell_type": "code",
   "execution_count": null,
   "metadata": {},
   "outputs": [],
   "source": [
    "import cv2\n",
    "import numpy as np"
   ]
  },
  {
   "cell_type": "code",
   "execution_count": null,
   "metadata": {},
   "outputs": [],
   "source": [
    "\n",
    "\n",
    "img = cv2.imread('./pp.jpg')\n",
    "\n",
    "#store height and width\n",
    "height, width = img.shape[:2]\n",
    "\n",
    "qHeight, qWidth = height/4, width/4\n",
    "\n",
    "\n",
    "#       | 1  0  Tx |\n",
    "#   T = | 0  1  Ty |    (created by below code)\n",
    "\n",
    "\n",
    "\n",
    "#T is translation matrix, float 32 defines data type for T\n",
    "T = np.float32([[1, 0, qWidth], [0, 1, qHeight]])\n",
    "\n",
    "\n",
    "#we use warpaffine() to transform image using translation matrix T\n",
    "\n",
    "translated_img = cv2.warpAffine(img, T, (width, height))\n",
    "\n",
    "\n",
    "cv2.imshow('translated image', translated_img)\n",
    "\n",
    "cv2.waitKey(0)\n",
    "cv2.destroyAllWindows()"
   ]
  },
  {
   "cell_type": "code",
   "execution_count": null,
   "metadata": {},
   "outputs": [],
   "source": [
    "T"
   ]
  },
  {
   "cell_type": "code",
   "execution_count": null,
   "metadata": {},
   "outputs": [],
   "source": []
  },
  {
   "cell_type": "code",
   "execution_count": null,
   "metadata": {},
   "outputs": [],
   "source": []
  },
  {
   "cell_type": "markdown",
   "metadata": {},
   "source": [
    "# ROTATION"
   ]
  },
  {
   "cell_type": "code",
   "execution_count": null,
   "metadata": {},
   "outputs": [],
   "source": []
  },
  {
   "cell_type": "code",
   "execution_count": null,
   "metadata": {},
   "outputs": [],
   "source": [
    "img = cv2.imread('./pp.jpg')\n",
    "\n",
    "#store height and width\n",
    "height, width = img.shape[:2]\n",
    "\n",
    "\n",
    "#rotation matrix : M, cv2.getRotationMatrix2D is used to form M\n",
    "M = cv2.getRotationMatrix2D((width/2, height/2), 90, 3)\n",
    "\n",
    "rotated_img = cv2.warpAffine(img, M, (width, height))\n",
    "\n",
    "\n",
    "\n",
    "cv2.imshow('ROTATED IMAGE', rotated_img)\n",
    "\n",
    "cv2.waitKey(0)\n",
    "cv2.destroyAllWindows()"
   ]
  },
  {
   "cell_type": "code",
   "execution_count": null,
   "metadata": {},
   "outputs": [],
   "source": []
  },
  {
   "cell_type": "code",
   "execution_count": null,
   "metadata": {},
   "outputs": [],
   "source": [
    "#Other option to rotate : Transpose!\n",
    "\n",
    "img = cv2.imread('./pp.jpg')\n",
    "rotated_img = cv2.transpose(img)\n",
    "\n",
    "\n",
    "cv2.imshow('ROTATED IMAGE', rotated_img)\n",
    "\n",
    "cv2.waitKey(0)\n",
    "cv2.destroyAllWindows()"
   ]
  },
  {
   "cell_type": "code",
   "execution_count": null,
   "metadata": {},
   "outputs": [],
   "source": []
  },
  {
   "cell_type": "code",
   "execution_count": null,
   "metadata": {},
   "outputs": [],
   "source": []
  },
  {
   "cell_type": "code",
   "execution_count": null,
   "metadata": {},
   "outputs": [],
   "source": []
  },
  {
   "cell_type": "code",
   "execution_count": null,
   "metadata": {},
   "outputs": [],
   "source": []
  },
  {
   "cell_type": "markdown",
   "metadata": {},
   "source": [
    "# Resizing, scaling and interpolation"
   ]
  },
  {
   "cell_type": "code",
   "execution_count": null,
   "metadata": {},
   "outputs": [],
   "source": []
  },
  {
   "cell_type": "code",
   "execution_count": null,
   "metadata": {},
   "outputs": [],
   "source": []
  },
  {
   "cell_type": "code",
   "execution_count": null,
   "metadata": {},
   "outputs": [],
   "source": []
  },
  {
   "cell_type": "code",
   "execution_count": null,
   "metadata": {},
   "outputs": [],
   "source": [
    "#interpolation methods : cv2.INTER_ (press tab) -------> fills the gaps when small img is reshaped into larger one\n",
    "\n",
    "img = cv2.imread('./pp.jpg')\n",
    "\n",
    "#RESIZING : cv2.resize\n",
    "\n",
    "#making img 3/4th of its original\n",
    "scaled_img = cv2.resize(img, None, fx=0.75, fy=0.75)\n",
    "\n",
    "cv2.imshow('Scaling - Linear Interpolation (default)', scaled_img)\n",
    "cv2.waitKey()\n",
    "\n",
    "\n",
    "#double the size\n",
    "scaled_img = cv2.resize(img, None, fx=2, fy=2, interpolation = cv2.INTER_CUBIC)\n",
    "\n",
    "cv2.imshow('Scaling - CUBIC Interpolation', scaled_img)\n",
    "cv2.waitKey()\n",
    "\n",
    "\n",
    "#SKEW\n",
    "scaled_img = cv2.resize(img, (900,400), interpolation = cv2.INTER_AREA)\n",
    "\n",
    "cv2.imshow('SCALING - SKEWED SIZE - AREA INTERPOLATION (BETTER)', scaled_img)\n",
    "cv2.waitKey()\n",
    "\n",
    "\n",
    "cv2.destroyAllWindows()"
   ]
  },
  {
   "cell_type": "code",
   "execution_count": null,
   "metadata": {},
   "outputs": [],
   "source": []
  },
  {
   "cell_type": "code",
   "execution_count": null,
   "metadata": {},
   "outputs": [],
   "source": [
    "#ANOTHER TECHNIQUE : IMAGE PYRAMIDING - UPASCALE/DOWNSCALE\n",
    "\n",
    "\n",
    "img = cv2.imread('./pp.jpg')\n",
    "\n",
    "smaller_img = cv2.pyrDown(img)\n",
    "original_img = cv2.pyrUp(smaller_img)\n",
    "\n",
    "cv2.imshow(\"original\", img)\n",
    "cv2.imshow(\"smaller image\", smaller_img)\n",
    "cv2.imshow(\"small img upscaled to original (wil be blurrry)\", original_img)\n",
    "\n",
    "cv2.waitKey(0)\n",
    "cv2.destroyAllWindows()"
   ]
  },
  {
   "cell_type": "code",
   "execution_count": null,
   "metadata": {},
   "outputs": [],
   "source": []
  },
  {
   "cell_type": "markdown",
   "metadata": {},
   "source": [
    "# CROPPING"
   ]
  },
  {
   "cell_type": "code",
   "execution_count": null,
   "metadata": {},
   "outputs": [],
   "source": []
  },
  {
   "cell_type": "code",
   "execution_count": null,
   "metadata": {},
   "outputs": [],
   "source": [
    "# NO direct function, omnly numpy\n",
    "\n",
    "img = cv2.imread('./pp.jpg')\n",
    "height, width = img.shape[:2]\n",
    "\n",
    "\n",
    "\n",
    "#starting pixel : top left of image to be cropped\n",
    "start_row, start_col = int(height * .25), int(width * .25)\n",
    "\n",
    "#end pixel : bottom-right of image to e cropped\n",
    "end_row, end_col = int(height * .75), int(width * .75)\n",
    "\n",
    "#use indexing to crop\n",
    "cropped_img = img[start_row:end_row, start_col:end_col]\n",
    "\n",
    "\n",
    "\n",
    "cv2.imshow('original', img)\n",
    "cv2.waitKey()\n",
    "cv2.imshow('cropped', cropped_img)\n",
    "cv2.waitKey()\n",
    "\n",
    "cv2.destroyAllWindows()\n"
   ]
  },
  {
   "cell_type": "code",
   "execution_count": null,
   "metadata": {},
   "outputs": [],
   "source": []
  },
  {
   "cell_type": "code",
   "execution_count": null,
   "metadata": {},
   "outputs": [],
   "source": []
  },
  {
   "cell_type": "code",
   "execution_count": null,
   "metadata": {},
   "outputs": [],
   "source": []
  },
  {
   "cell_type": "markdown",
   "metadata": {},
   "source": [
    "# ARITHEMATIC OPERATIONS"
   ]
  },
  {
   "cell_type": "markdown",
   "metadata": {},
   "source": [
    "========================================"
   ]
  },
  {
   "cell_type": "markdown",
   "metadata": {},
   "source": [
    "eg.)  Adding or subtracting Matrices to array, we can increase or decrease brightness"
   ]
  },
  {
   "cell_type": "code",
   "execution_count": null,
   "metadata": {},
   "outputs": [],
   "source": []
  },
  {
   "cell_type": "code",
   "execution_count": null,
   "metadata": {},
   "outputs": [],
   "source": [
    "img = cv2.imread('./pp.jpg')\n",
    "\n",
    "\n",
    "#create matrix we want to add or subtract\n",
    "M = np.ones(img.shape, np.uint8) * 75\n",
    "\n",
    "\n",
    "\n",
    "#cv2.add() : increases brightness\n",
    "added = cv2.add(img, M)\n",
    "cv2.imshow(\"ADDED M\", added)\n",
    "\n",
    "\n",
    "\n",
    "#cv2.subtract() : decrease brightness\n",
    "subtracted = cv2.subtract(img, M)\n",
    "cv2.imshow(\"SUBTRACTED M\", subtracted)\n",
    "\n",
    "\n",
    "cv2.waitKey()\n",
    "cv2.destroyAllWindows()"
   ]
  },
  {
   "cell_type": "code",
   "execution_count": null,
   "metadata": {},
   "outputs": [],
   "source": []
  },
  {
   "cell_type": "markdown",
   "metadata": {},
   "source": [
    "# BITWISE OPERATION AND MASKING"
   ]
  },
  {
   "cell_type": "markdown",
   "metadata": {},
   "source": [
    "#Here were using grayscale, hence 2d\n",
    "#if colored image,  we'd have used :\n",
    "#             recangle = np.zeros((300, 300, 3), np.uint8)\n",
    "\n"
   ]
  },
  {
   "cell_type": "code",
   "execution_count": null,
   "metadata": {},
   "outputs": [],
   "source": []
  },
  {
   "cell_type": "code",
   "execution_count": null,
   "metadata": {},
   "outputs": [],
   "source": [
    "#drawing a RECTANGLE\n",
    "\n",
    "bg = np.zeros((300, 300), np.uint8)\n",
    "cv2.rectangle(bg, (10,10), (290,230), (234, 12,96), 3)\n",
    "\n",
    "cv2.imshow(\"rect drawn\", bg)\n",
    "cv2.waitKey()\n",
    "cv2.destroyAllWidows()"
   ]
  },
  {
   "cell_type": "code",
   "execution_count": 6,
   "metadata": {},
   "outputs": [
    {
     "data": {
      "text/plain": [
       "-1"
      ]
     },
     "execution_count": 6,
     "metadata": {},
     "output_type": "execute_result"
    }
   ],
   "source": [
    "#DRAWING RECT\n",
    "\n",
    "rect = np.zeros((300, 300), np.uint8)\n",
    "cv2.rectangle(rect, (10,10), (290,230), (234, 12,96),-1)\n",
    "\n",
    "cv2.imshow(\"rect drawn\", rect)\n",
    "cv2.waitKey(0)"
   ]
  },
  {
   "cell_type": "code",
   "execution_count": 7,
   "metadata": {},
   "outputs": [],
   "source": [
    "#Draw ELLIPSE\n",
    "\n",
    "ellipse = np.zeros((300, 300), np.uint8)\n",
    "cv2.ellipse(ellipse, (150,150), (150,150), 30, 0, 180, (254, 50,12), -1)\n",
    "\n",
    "cv2.imshow(\"ellipse drawn\", ellipse)\n",
    "\n",
    "cv2.waitKey()\n",
    "cv2.destroyAllWindows()"
   ]
  },
  {
   "cell_type": "code",
   "execution_count": null,
   "metadata": {},
   "outputs": [],
   "source": []
  },
  {
   "cell_type": "code",
   "execution_count": null,
   "metadata": {},
   "outputs": [],
   "source": []
  },
  {
   "cell_type": "markdown",
   "metadata": {},
   "source": [
    "# BITWISE OPERATION AND MASKING : Experimenting"
   ]
  },
  {
   "cell_type": "code",
   "execution_count": null,
   "metadata": {},
   "outputs": [],
   "source": []
  },
  {
   "cell_type": "code",
   "execution_count": null,
   "metadata": {},
   "outputs": [],
   "source": [
    "#Here were using grayscale, hence 2d\n",
    "#if colored image,  we'd have used :\n",
    "#             recangle = np.zeros((300, 300, 3), np.uint8)"
   ]
  },
  {
   "cell_type": "code",
   "execution_count": null,
   "metadata": {},
   "outputs": [],
   "source": []
  },
  {
   "cell_type": "code",
   "execution_count": 11,
   "metadata": {},
   "outputs": [],
   "source": [
    "\n",
    "\n",
    "#shows either square or ellipse\n",
    "And = cv2.bitwise_and(rect, ellipse)\n",
    "cv2.imshow(\"and\", And)\n",
    "cv2.waitKey(0)\n",
    "\n",
    "\n",
    "#shows both square and ellipse\n",
    "Or = cv2.bitwise_or(rect, ellipse)\n",
    "cv2.imshow(\"or\", Or)\n",
    "cv2.waitKey(0)\n",
    "\n",
    "\n",
    "#shows everything where either exist by themselves\n",
    "Xor = cv2.bitwise_xor(rect, ellipse)\n",
    "cv2.imshow(\"xor\", Xor)\n",
    "cv2.waitKey(0)\n",
    "\n",
    "\n",
    "Not = cv2.bitwise_not(rect)\n",
    "cv2.imshow(\"not\", Not)\n",
    "cv2.waitKey(0)\n",
    "\n",
    "\n",
    "cv2.destroyAllWindows()"
   ]
  },
  {
   "cell_type": "code",
   "execution_count": null,
   "metadata": {},
   "outputs": [],
   "source": []
  },
  {
   "cell_type": "code",
   "execution_count": null,
   "metadata": {},
   "outputs": [],
   "source": []
  },
  {
   "cell_type": "markdown",
   "metadata": {},
   "source": [
    "# CONVOLUTION AND BLURRING"
   ]
  },
  {
   "cell_type": "code",
   "execution_count": 17,
   "metadata": {},
   "outputs": [],
   "source": [
    "img = cv2.imread('./pp.jpg')\n",
    "cv2.imshow('Original', img)\n",
    "cv2.waitKey(0)\n",
    "\n",
    "#creating kernel : 3x3 (kernel is subset of bg)\n",
    "kernel_3x3 = np.ones((3,3), np.float32)/9\n",
    "\n",
    "#cv2.filter2D : convolves the kernel with img\n",
    "blur_img = cv2.filter2D(img, -10, kernel_3x3)\n",
    "\n",
    "cv2.imshow('3x3 kernel blurr', blur_img)\n",
    "cv2.waitKey(0)\n",
    "\n",
    "\n",
    "\n",
    "#more blurrr --> increase kernel dimension\n",
    "#creating kernel : 7x7 (kernel is subset of bg)\n",
    "kernel_7x7 = np.ones((7,7), np.float32)/49\n",
    "\n",
    "#cv2.filter2D : convolves the kernel with img\n",
    "blur_img = cv2.filter2D(img, -1, kernel_7x7)\n",
    "\n",
    "cv2.imshow('7x7 kernel blurr', blur_img)\n",
    "cv2.waitKey(0)\n",
    "\n",
    "\n",
    "cv2.destroyAllWindows()"
   ]
  },
  {
   "cell_type": "code",
   "execution_count": null,
   "metadata": {},
   "outputs": [],
   "source": []
  },
  {
   "cell_type": "code",
   "execution_count": 21,
   "metadata": {},
   "outputs": [],
   "source": [
    "#Other commonly used : blurring techniques\n",
    "\n",
    "img = cv2.imread('./pp.jpg')\n",
    "\n",
    "\n",
    "#Box filter\n",
    "blur_boxFilter = cv2.blur(img, (3,3))\n",
    "cv2.imshow('Averaging box filter', blur_boxFilter)\n",
    "cv2.waitKey(0)\n",
    "\n",
    "\n",
    "#gaussian kernel : peak towards center and slowly fades\n",
    "Gaussian_blur = cv2.GaussianBlur(img, (7,7), 0)\n",
    "cv2.imshow('Blur gausian', Gaussian_blur)\n",
    "cv2.waitKey(0)\n",
    "\n",
    "\n",
    "#median blurring : element replaced with its median value\n",
    "median_blur = cv2.medianBlur(img, 5)\n",
    "cv2.imshow('Blur median', median_blur)\n",
    "cv2.waitKey(0)\n",
    "\n",
    "\n",
    "#Bilateral : removes noise by keeping edges sharp\n",
    "bilateral_blur = cv2.bilateralFilter(img, 9, 75, 75)\n",
    "cv2.imshow('Blur bilateral', bilateral_blur)\n",
    "cv2.waitKey(0)\n",
    "\n",
    "\n",
    "cv2.destroyAllWindows()"
   ]
  },
  {
   "cell_type": "code",
   "execution_count": null,
   "metadata": {},
   "outputs": [],
   "source": []
  },
  {
   "cell_type": "code",
   "execution_count": 22,
   "metadata": {},
   "outputs": [],
   "source": [
    "#IMAGE DE-NOISING : NON-LOCAL-MEANS-DE-NOISING\n",
    "\n",
    "\n",
    " \n",
    "img = cv2.imread('./pp.jpg')\n",
    "\n",
    "#Fast means denoising :\n",
    "#home_made dslr effect\n",
    "dst = cv2.fastNlMeansDenoisingColored(img, None, 6, 6, 7, 21)\n",
    "cv2.imshow('FAST MEANS DENOISING', dst)\n",
    "cv2.waitKey(0)\n",
    "cv2.destroyAllWindows()"
   ]
  },
  {
   "cell_type": "code",
   "execution_count": null,
   "metadata": {},
   "outputs": [],
   "source": []
  },
  {
   "cell_type": "code",
   "execution_count": null,
   "metadata": {},
   "outputs": [],
   "source": []
  },
  {
   "cell_type": "markdown",
   "metadata": {},
   "source": [
    "# SHARPENING"
   ]
  },
  {
   "cell_type": "code",
   "execution_count": 25,
   "metadata": {},
   "outputs": [
    {
     "ename": "TypeError",
     "evalue": "Expected cv::UMat for argument 'kernel'",
     "output_type": "error",
     "traceback": [
      "\u001b[1;31m---------------------------------------------------------------------------\u001b[0m",
      "\u001b[1;31mTypeError\u001b[0m                                 Traceback (most recent call last)",
      "\u001b[1;32m<ipython-input-25-441fe91130d0>\u001b[0m in \u001b[0;36m<module>\u001b[1;34m\u001b[0m\n\u001b[0;32m      8\u001b[0m \u001b[1;33m\u001b[0m\u001b[0m\n\u001b[0;32m      9\u001b[0m \u001b[1;31m#APPLYING DFFT KERNELS TO INPUT IMAGE\u001b[0m\u001b[1;33m\u001b[0m\u001b[1;33m\u001b[0m\u001b[0m\n\u001b[1;32m---> 10\u001b[1;33m \u001b[0msharpened\u001b[0m \u001b[1;33m=\u001b[0m \u001b[0mcv2\u001b[0m\u001b[1;33m.\u001b[0m\u001b[0mfilter2D\u001b[0m\u001b[1;33m(\u001b[0m\u001b[0mimg\u001b[0m\u001b[1;33m,\u001b[0m \u001b[1;33m-\u001b[0m\u001b[1;36m1\u001b[0m\u001b[1;33m,\u001b[0m \u001b[0mkernel_sharpening\u001b[0m\u001b[1;33m)\u001b[0m\u001b[1;33m\u001b[0m\u001b[0m\n\u001b[0m\u001b[0;32m     11\u001b[0m \u001b[1;33m\u001b[0m\u001b[0m\n\u001b[0;32m     12\u001b[0m \u001b[0mcv2\u001b[0m\u001b[1;33m.\u001b[0m\u001b[0mimshow\u001b[0m\u001b[1;33m(\u001b[0m\u001b[1;34m'Image Sharpening'\u001b[0m\u001b[1;33m,\u001b[0m \u001b[0msharpened\u001b[0m\u001b[1;33m)\u001b[0m\u001b[1;33m\u001b[0m\u001b[0m\n",
      "\u001b[1;31mTypeError\u001b[0m: Expected cv::UMat for argument 'kernel'"
     ]
    }
   ],
   "source": [
    "img = cv2.imread('./pp.jpg')\n",
    "\n",
    "\n",
    "#CREATE KERNEL, WE DONT NORMALIZE AS IT SUMS TO 1\n",
    "kernel_sharpening = np.array = ([[-1, -1, -1],\n",
    "                                 [-1, 9, -1],\n",
    "                                 [-1, -1, -1]])\n",
    "\n",
    "#APPLYING DFFT KERNELS TO INPUT IMAGE\n",
    "sharpened = cv2.filter2D(img, -1, kernel_sharpening)\n",
    "\n",
    "cv2.imshow('Image Sharpening', sharpened)\n",
    "\n",
    "cv2.waitKey(0)\n",
    "cv2.destroyAllWindows()\n"
   ]
  },
  {
   "cell_type": "code",
   "execution_count": null,
   "metadata": {},
   "outputs": [],
   "source": []
  },
  {
   "cell_type": "code",
   "execution_count": null,
   "metadata": {},
   "outputs": [],
   "source": []
  },
  {
   "cell_type": "code",
   "execution_count": null,
   "metadata": {},
   "outputs": [],
   "source": []
  },
  {
   "cell_type": "code",
   "execution_count": null,
   "metadata": {},
   "outputs": [],
   "source": []
  },
  {
   "cell_type": "code",
   "execution_count": null,
   "metadata": {},
   "outputs": [],
   "source": []
  },
  {
   "cell_type": "code",
   "execution_count": null,
   "metadata": {},
   "outputs": [],
   "source": []
  },
  {
   "cell_type": "code",
   "execution_count": null,
   "metadata": {},
   "outputs": [],
   "source": []
  },
  {
   "cell_type": "code",
   "execution_count": null,
   "metadata": {},
   "outputs": [],
   "source": []
  }
 ],
 "metadata": {
  "kernelspec": {
   "display_name": "Python 3",
   "language": "python",
   "name": "python3"
  },
  "language_info": {
   "codemirror_mode": {
    "name": "ipython",
    "version": 3
   },
   "file_extension": ".py",
   "mimetype": "text/x-python",
   "name": "python",
   "nbconvert_exporter": "python",
   "pygments_lexer": "ipython3",
   "version": "3.7.0"
  }
 },
 "nbformat": 4,
 "nbformat_minor": 2
}
